{
 "cells": [
  {
   "cell_type": "markdown",
   "metadata": {},
   "source": [
    "# Gamma Ray Burst Lightcurves\n",
    "\n",
    "This script is for the formation of lightcurves from observed portions of TESS. These cutout files are locations where a Gamma Ray Burst has been observed. A lightcurve is formed using the flux values given in the FITs file downloaded from TESScut. The values are normalized and represented as a 2-D line graph.\n",
    "\n",
    "# Author(s)\n",
    "\n",
    "Adam Dressel\n",
    "Lindsey Carboneau"
   ]
  },
  {
   "cell_type": "code",
   "execution_count": 1,
   "metadata": {},
   "outputs": [],
   "source": [
    "import numpy as np\n",
    "from astropy.io import fits\n",
    "import matplotlib.pyplot as plt\n",
    "import matplotlib.colors as colors\n",
    "import matplotlib.animation as animation\n",
    "from IPython.display import HTML"
   ]
  },
  {
   "cell_type": "code",
   "execution_count": 2,
   "metadata": {},
   "outputs": [],
   "source": [
    "#function for opening fits file and getting header and pixel data\n",
    "def read_fits_file(target_file):\n",
    "    tess_file = fits.open(target_file)\n",
    "    header_data = tess_file[0].header\n",
    "    check_data = tess_file[1].data\n",
    "    tess_file.close()\n",
    "    # Converts flux values to an array.\n",
    "    pixel_data = np.asarray(check_data)\n",
    "    return (header_data, pixel_data, check_data)\n",
    "\n",
    "input_file = '/home/adam/Documents/GammaRayFits/astrocut_7.763_-38.619_20x20px/tess-s0002-2-3_7.763000_-38.619000_20x20_astrocut.fits'\n",
    "\n",
    "header, pixels, check = read_fits_file(input_file)\n",
    "\n",
    "#THe flux values of the first frame.\n",
    "frame_one = np.stack(pixels['FLUX'][162])"
   ]
  },
  {
   "cell_type": "markdown",
   "metadata": {},
   "source": [
    "# Testing and Thought Process\n",
    "\n",
    "The next few cells are used to observe and test exactly what data can be extracted and observed from the FITs file. This is useful for later in determining what values should be used in generating the lightcurve."
   ]
  },
  {
   "cell_type": "code",
   "execution_count": 18,
   "metadata": {},
   "outputs": [
    {
     "data": {
      "image/png": "[encoded data removed]",
      "text/plain": [
       "<Figure size 432x288 with 1 Axes>"
      ]
     },
     "metadata": {
      "needs_background": "light"
     },
     "output_type": "display_data"
    }
   ],
   "source": [
    "#Image of the flux values for the first frame\n",
    "frame_image =  plt.imshow(frame_one)"
   ]
  },
  {
   "cell_type": "code",
   "execution_count": 6,
   "metadata": {},
   "outputs": [
    {
     "name": "stdout",
     "output_type": "stream",
     "text": [
      "100.31676\n"
     ]
    }
   ],
   "source": [
    "mean = frame_one.mean()\n",
    "print(mean)"
   ]
  },
  {
   "cell_type": "code",
   "execution_count": 7,
   "metadata": {},
   "outputs": [
    {
     "name": "stdout",
     "output_type": "stream",
     "text": [
      "16.98873\n",
      "117.30549\n"
     ]
    }
   ],
   "source": [
    "std = frame_one.std()\n",
    "print(std)\n",
    "print(mean + std)"
   ]
  },
  {
   "cell_type": "code",
   "execution_count": 8,
   "metadata": {
    "scrolled": true
   },
   "outputs": [
    {
     "data": {
      "text/plain": [
       "(array([ 0,  0,  0,  0,  0,  0,  0,  0,  0,  0,  0,  0,  0,  0,  0,  1,  1,\n",
       "         1,  1,  1,  1,  1,  1,  1,  1,  1,  1,  1,  1,  1,  1,  1,  2,  2,\n",
       "         2,  2,  2,  2,  2,  2,  2,  2,  2,  2,  2,  2,  2,  2,  2,  2,  3,\n",
       "         3,  3,  3,  3,  3,  3,  3,  3,  3,  3,  3,  3,  3,  3,  3,  3,  4,\n",
       "         4,  4,  4,  4,  4,  4,  4,  4,  4,  4,  4,  4,  4,  4,  4,  4,  4,\n",
       "         5,  5,  5,  5,  5,  5,  5,  5,  5,  5,  5,  5,  5,  5,  5,  5,  5,\n",
       "         5,  5,  6,  6,  6,  6,  6,  6,  6,  6,  6,  6,  6,  6,  6,  6,  6,\n",
       "         6,  6,  6,  6,  7,  7,  7,  7,  7,  7,  7,  7,  7,  7,  7,  7,  7,\n",
       "         7,  7,  7,  7,  8,  8,  8,  8,  8,  8,  8,  8,  8,  8,  8,  8,  8,\n",
       "         8,  8,  8,  8,  8,  9,  9,  9,  9,  9,  9,  9,  9,  9,  9,  9,  9,\n",
       "         9,  9,  9,  9,  9,  9,  9,  9, 10, 10, 10, 10, 10, 10, 10, 10, 10,\n",
       "        10, 10, 10, 10, 10, 10, 10, 10, 10, 10, 10, 11, 11, 11, 11, 11, 11,\n",
       "        11, 11, 11, 11, 11, 11, 11, 11, 11, 11, 11, 11, 11, 12, 12, 12, 12,\n",
       "        12, 12, 12, 12, 12, 12, 12, 12, 12, 12, 12, 12, 12, 12, 12, 12, 13,\n",
       "        13, 13, 13, 13, 13, 13, 13, 13, 13, 13, 13, 13, 13, 13, 13, 13, 13,\n",
       "        13, 13, 14, 14, 14, 14, 14, 14, 14, 14, 14, 14, 14, 14, 14, 14, 14,\n",
       "        14, 14, 14, 15, 15, 15, 15, 15, 15, 15, 15, 15, 15, 15, 15, 15, 15,\n",
       "        15, 15, 15, 15, 15, 15, 16, 16, 16, 16, 16, 16, 16, 16, 16, 16, 16,\n",
       "        16, 16, 16, 16, 16, 16, 16, 16, 16, 17, 17, 17, 17, 17, 17, 17, 17,\n",
       "        17, 17, 17, 17, 17, 17, 17, 17, 17, 17, 17, 17, 18, 18, 18, 18, 18,\n",
       "        18, 18, 18, 18, 18, 18, 18, 18, 18, 18, 18, 18, 18, 18, 18, 19, 19,\n",
       "        19, 19, 19, 19, 19, 19, 19, 19, 19, 19, 19, 19, 19, 19, 19]),\n",
       " array([ 0,  1,  2,  3,  4,  5,  6, 12, 13, 14, 15, 16, 17, 18, 19,  0,  1,\n",
       "         2,  3,  4,  5,  6,  7, 11, 12, 13, 14, 15, 16, 17, 18, 19,  0,  1,\n",
       "         2,  3,  4,  5,  6,  7,  8,  9, 10, 13, 14, 15, 16, 17, 18, 19,  0,\n",
       "         1,  2,  3,  4,  5,  6,  7,  8,  9, 10, 14, 15, 16, 17, 18, 19,  0,\n",
       "         1,  2,  3,  4,  5,  6,  7,  8,  9, 10, 13, 14, 15, 16, 17, 18, 19,\n",
       "         1,  2,  3,  4,  5,  6,  7,  8,  9, 10, 11, 12, 13, 14, 15, 16, 17,\n",
       "        18, 19,  0,  1,  2,  4,  5,  6,  7,  8,  9, 10, 11, 12, 13, 14, 15,\n",
       "        16, 17, 18, 19,  0,  1,  2,  6,  7,  8,  9, 10, 11, 12, 13, 14, 15,\n",
       "        16, 17, 18, 19,  0,  1,  2,  3,  6,  7,  8,  9, 10, 11, 12, 13, 14,\n",
       "        15, 16, 17, 18, 19,  0,  1,  2,  3,  4,  5,  6,  7,  8,  9, 10, 11,\n",
       "        12, 13, 14, 15, 16, 17, 18, 19,  0,  1,  2,  3,  4,  5,  6,  7,  8,\n",
       "         9, 10, 11, 12, 13, 14, 15, 16, 17, 18, 19,  0,  1,  2,  3,  4,  5,\n",
       "         6,  7,  8,  9, 10, 11, 12, 14, 15, 16, 17, 18, 19,  0,  1,  2,  3,\n",
       "         4,  5,  6,  7,  8,  9, 10, 11, 12, 13, 14, 15, 16, 17, 18, 19,  0,\n",
       "         1,  2,  3,  4,  5,  6,  7,  8,  9, 10, 11, 12, 13, 14, 15, 16, 17,\n",
       "        18, 19,  0,  1,  2,  3,  4,  5,  6,  7,  8,  9, 10, 11, 12, 13, 14,\n",
       "        17, 18, 19,  0,  1,  2,  3,  4,  5,  6,  7,  8,  9, 10, 11, 12, 13,\n",
       "        14, 15, 16, 17, 18, 19,  0,  1,  2,  3,  4,  5,  6,  7,  8,  9, 10,\n",
       "        11, 12, 13, 14, 15, 16, 17, 18, 19,  0,  1,  2,  3,  4,  5,  6,  7,\n",
       "         8,  9, 10, 11, 12, 13, 14, 15, 16, 17, 18, 19,  0,  1,  2,  3,  4,\n",
       "         5,  6,  7,  8,  9, 10, 11, 12, 13, 14, 15, 16, 17, 18, 19,  0,  1,\n",
       "         2,  3,  4,  5,  6, 10, 11, 12, 13, 14, 15, 16, 17, 18, 19]))"
      ]
     },
     "execution_count": 8,
     "metadata": {},
     "output_type": "execute_result"
    }
   ],
   "source": [
    "                                            ''' \n",
    "        These are the 'pixels' where the flux is one standard deviation below the mean.\n",
    "        The first index of the first array corresponds to the first index of the second array, \n",
    "        i.e. [1,1] is a pixel with a flux less than one std below the mean.\n",
    "        These indices will be used to create the aperature mask for the mean_img.\n",
    "                                            '''\n",
    "    \n",
    "np.where(frame_one < mean + std)"
   ]
  },
  {
   "cell_type": "code",
   "execution_count": 20,
   "metadata": {},
   "outputs": [
    {
     "name": "stdout",
     "output_type": "stream",
     "text": [
      "1357.4946899414062\n"
     ]
    }
   ],
   "source": [
    "                                            '''\n",
    "                Example showing how to iterate through frames of the pixel data. \n",
    "                Incrementing the second index of the pixels array will jump to the next frame.\n",
    "                                            '''\n",
    "    \n",
    "frame_one = np.stack(pixels['FLUX'][162])\n",
    "\n",
    "frame_two = np.stack(pixels['FLUX'][163])\n",
    "print(pixels['TIME'][162])"
   ]
  },
  {
   "cell_type": "code",
   "execution_count": 19,
   "metadata": {
    "scrolled": true
   },
   "outputs": [
    {
     "data": {
      "text/plain": [
       "array([[ 94.447044, 101.06738 ,  99.197205,  94.14639 ,  93.86669 ,\n",
       "         96.85756 , 112.5352  , 141.0521  , 174.93695 , 188.21516 ,\n",
       "        162.18106 , 131.58435 , 110.33618 , 100.74334 ,  96.85    ,\n",
       "         93.86939 ,  93.678955,  93.34376 ,  92.60994 ,  92.87697 ],\n",
       "       [ 93.58122 ,  94.97284 ,  93.81484 ,  93.9675  ,  94.78885 ,\n",
       "         95.95815 , 100.22145 , 110.174835, 119.820496, 122.436165,\n",
       "        118.22758 , 114.643524, 108.161736, 103.56835 ,  96.36515 ,\n",
       "         94.46369 ,  93.677605,  93.49102 ,  93.91373 ,  92.58533 ],\n",
       "       [ 93.825516,  93.74021 ,  93.88426 ,  94.29592 ,  94.64444 ,\n",
       "         97.90746 , 109.36073 , 103.599075, 111.4475  , 106.50105 ,\n",
       "        108.970535, 126.68131 , 134.20114 , 114.60559 ,  99.20141 ,\n",
       "         95.755035,  95.24086 ,  95.28493 ,  95.36522 ,  93.6468  ],\n",
       "       [ 94.79022 ,  94.97477 ,  94.31525 ,  97.8415  ,  95.39773 ,\n",
       "         98.736946, 104.26896 ,  98.75394 ,  98.447334,  99.10954 ,\n",
       "        112.135254, 251.4649  , 237.08757 , 116.637764,  99.920876,\n",
       "         96.5453  ,  99.31851 ,  99.668526, 101.3046  ,  94.24872 ],\n",
       "       [105.18284 ,  99.028114,  97.306725,  97.59203 ,  97.231514,\n",
       "         95.46236 ,  96.037895,  96.60383 ,  96.49354 ,  97.43305 ,\n",
       "        106.00262 , 161.33487 , 167.9806  , 112.22996 ,  99.28782 ,\n",
       "         95.97908 ,  96.14225 ,  97.06311 ,  97.873604,  93.9731  ],\n",
       "       [128.738   , 102.205124, 105.995834, 108.60253 ,  99.59343 ,\n",
       "         96.848785,  95.537   ,  95.782074,  96.30036 ,  96.75879 ,\n",
       "         97.058495, 101.26379 , 104.09345 , 101.63118 ,  99.22849 ,\n",
       "         96.76387 ,  93.949455,  93.62059 ,  94.39722 ,  94.725655],\n",
       "       [ 99.924866,  99.47496 , 118.172   , 129.83456 , 111.65607 ,\n",
       "        104.41692 ,  97.1672  ,  95.21296 ,  95.366295,  94.932045,\n",
       "         94.61662 ,  94.83931 ,  96.12124 ,  96.54862 ,  99.99741 ,\n",
       "        100.86409 ,  95.68792 ,  94.115036,  94.999565, 102.46038 ],\n",
       "       [ 95.1095  ,  95.54705 , 100.619675, 125.05147 , 204.37599 ,\n",
       "        124.53172 ,  98.51851 ,  94.95426 ,  94.663826,  94.37888 ,\n",
       "         93.32657 ,  92.75076 ,  93.57892 ,  94.89188 , 101.09661 ,\n",
       "        104.59093 ,  96.97404 ,  94.55441 ,  94.89842 ,  96.83657 ],\n",
       "       [ 93.271904,  95.373634,  99.65363 , 118.13392 , 184.1975  ,\n",
       "        121.094444,  98.662605,  94.564186,  93.60016 ,  93.71117 ,\n",
       "         93.014206,  93.137985,  93.19315 ,  93.95793 ,  96.59792 ,\n",
       "         96.278824,  95.383644,  95.275345,  94.55329 ,  94.805916],\n",
       "       [ 94.068634,  96.17004 , 109.209915, 101.84242 , 100.5242  ,\n",
       "         99.468185,  96.83933 ,  94.5735  ,  93.56701 ,  93.253235,\n",
       "         93.259865,  93.095695,  94.62763 ,  95.03155 ,  94.97745 ,\n",
       "         95.374466,  95.09657 ,  94.44846 ,  95.22758 ,  94.960365],\n",
       "       [ 94.28979 ,  94.70223 ,  96.71556 ,  95.4494  ,  94.61931 ,\n",
       "         94.26512 ,  94.11386 ,  94.07024 ,  93.10032 ,  92.701965,\n",
       "         92.900696,  95.36974 ,  97.61138 , 105.34275 ,  98.389015,\n",
       "         95.66394 ,  94.84106 ,  93.68729 ,  93.3289  ,  94.02841 ],\n",
       "       [ 95.34504 ,  93.70904 ,  93.02366 ,  92.92108 ,  93.03596 ,\n",
       "         93.18844 ,  93.569626,  93.81241 ,  92.40229 ,  92.74199 ,\n",
       "         92.882195,  94.45956 , 100.78296 , 124.85733 , 102.15612 ,\n",
       "         95.91796 ,  95.32777 ,  93.770744,  93.18837 ,  93.60911 ],\n",
       "       [ 96.41084 ,  94.6754  ,  92.06886 ,  93.11986 ,  92.93825 ,\n",
       "         93.404335,  93.74112 ,  92.9384  ,  93.02757 ,  93.23975 ,\n",
       "         92.868866,  93.63246 ,  94.55386 ,  98.03305 ,  98.05817 ,\n",
       "         97.036446,  95.72551 ,  94.02196 ,  93.63098 ,  94.09463 ],\n",
       "       [ 96.56    ,  93.93911 ,  92.81624 ,  93.3287  ,  92.58305 ,\n",
       "         92.81998 ,  93.39522 ,  93.17977 ,  93.24741 ,  93.3495  ,\n",
       "         92.853714,  92.89936 ,  93.04082 ,  93.81622 ,  96.04432 ,\n",
       "        101.84648 , 101.08848 ,  94.96212 ,  94.66631 ,  95.033844],\n",
       "       [ 96.66058 ,  94.61799 ,  94.14715 ,  93.447815,  93.19874 ,\n",
       "         92.651024,  92.852844,  92.53681 ,  93.475815,  93.98809 ,\n",
       "         93.03817 ,  92.78001 ,  92.93687 ,  93.93455 ,  97.55955 ,\n",
       "        129.79303 , 117.88658 ,  96.382126,  94.16865 ,  94.452774],\n",
       "       [ 96.38914 ,  97.51621 , 101.34564 ,  93.15423 ,  93.4679  ,\n",
       "         93.458664,  93.546135,  92.99716 ,  93.46205 ,  93.97965 ,\n",
       "         93.808   ,  94.67008 ,  93.91167 ,  93.869064,  95.55377 ,\n",
       "        104.63682 , 103.85168 ,  96.68712 ,  95.30348 ,  92.96142 ],\n",
       "       [ 93.86737 ,  93.20854 ,  92.51961 ,  92.24203 ,  93.10934 ,\n",
       "         93.753784,  94.97196 ,  94.23042 ,  94.06564 ,  94.83777 ,\n",
       "         94.73381 ,  96.17873 ,  94.69197 ,  93.01541 ,  93.98965 ,\n",
       "         94.546295,  95.13976 ,  95.57188 ,  94.70751 ,  94.36903 ],\n",
       "       [ 93.393616,  93.10561 ,  92.359215,  93.86576 ,  93.34727 ,\n",
       "         94.12968 ,  98.66577 ,  96.97811 ,  96.199684,  95.84366 ,\n",
       "         95.6468  ,  97.14685 ,  94.81363 ,  93.67642 ,  93.777794,\n",
       "         94.056244,  94.6075  ,  94.07633 ,  93.43724 ,  93.061905],\n",
       "       [ 94.05555 ,  93.076515,  93.00385 ,  93.83752 ,  93.57246 ,\n",
       "         94.0196  ,  95.752754, 101.91162 , 107.21556 , 102.858284,\n",
       "         98.54028 ,  96.77554 ,  94.421486,  95.361435,  94.24469 ,\n",
       "         92.95722 ,  93.32066 ,  93.06505 ,  93.02059 ,  93.12934 ],\n",
       "       [ 94.78318 ,  92.82321 ,  92.578224,  92.39281 ,  93.2294  ,\n",
       "         94.0272  ,  99.975365, 130.41953 , 164.30524 , 128.40019 ,\n",
       "        106.93618 ,  98.55073 ,  95.30973 ,  98.23328 ,  95.098465,\n",
       "         93.461   ,  92.68828 ,  93.07093 ,  93.55351 ,  92.51022 ]],\n",
       "      dtype=float32)"
      ]
     },
     "execution_count": 19,
     "metadata": {},
     "output_type": "execute_result"
    }
   ],
   "source": [
    "frame_one"
   ]
  },
  {
   "cell_type": "code",
   "execution_count": 3,
   "metadata": {},
   "outputs": [
    {
     "name": "stdout",
     "output_type": "stream",
     "text": [
      "101.34564\n"
     ]
    },
    {
     "ename": "NameError",
     "evalue": "name 'frame_two' is not defined",
     "output_type": "error",
     "traceback": [
      "\u001b[0;31m---------------------------------------------------------------------------\u001b[0m",
      "\u001b[0;31mNameError\u001b[0m                                 Traceback (most recent call last)",
      "\u001b[0;32m<ipython-input-3-7dd63d9f30ea>\u001b[0m in \u001b[0;36m<module>\u001b[0;34m\u001b[0m\n\u001b[1;32m      2\u001b[0m \u001b[0mprint\u001b[0m\u001b[0;34m(\u001b[0m\u001b[0mframe_one\u001b[0m\u001b[0;34m[\u001b[0m\u001b[0;36m15\u001b[0m\u001b[0;34m]\u001b[0m\u001b[0;34m[\u001b[0m\u001b[0;36m2\u001b[0m\u001b[0;34m]\u001b[0m\u001b[0;34m)\u001b[0m\u001b[0;34m\u001b[0m\u001b[0;34m\u001b[0m\u001b[0m\n\u001b[1;32m      3\u001b[0m \u001b[0;31m# Top left pixel at frame two\u001b[0m\u001b[0;34m\u001b[0m\u001b[0;34m\u001b[0m\u001b[0;34m\u001b[0m\u001b[0m\n\u001b[0;32m----> 4\u001b[0;31m \u001b[0mprint\u001b[0m\u001b[0;34m(\u001b[0m\u001b[0mframe_two\u001b[0m\u001b[0;34m[\u001b[0m\u001b[0;36m15\u001b[0m\u001b[0;34m]\u001b[0m\u001b[0;34m[\u001b[0m\u001b[0;36m2\u001b[0m\u001b[0;34m]\u001b[0m\u001b[0;34m)\u001b[0m\u001b[0;34m\u001b[0m\u001b[0;34m\u001b[0m\u001b[0m\n\u001b[0m",
      "\u001b[0;31mNameError\u001b[0m: name 'frame_two' is not defined"
     ]
    }
   ],
   "source": [
    "# Top left pixel at frame one\n",
    "print(frame_one[15][2])\n",
    "# Top left pixel at frame two\n",
    "print(frame_two[15][2])"
   ]
  },
  {
   "cell_type": "markdown",
   "metadata": {},
   "source": [
    "# Background Subtraction\n",
    "\n",
    "The next three cells are used to perform the background subtraction necessary to normalize the generated light curve."
   ]
  },
  {
   "cell_type": "code",
   "execution_count": 23,
   "metadata": {
    "scrolled": true
   },
   "outputs": [],
   "source": [
    "#Loop for background subtraction of apeture mask.\n",
    "\n",
    "#List of median values for faintest 20% of pixels. Each index value\n",
    "#represents one frame.\n",
    "median_list = []\n",
    "\n",
    "# List of flux values for every frame, every pixel.\n",
    "full_frame_list = np.stack(pixels['FLUX'])\n",
    "# Gets lowest 20% pixels, gets the median of them for each frame and appends to median_list\n",
    "for frame_num in full_frame_list:\n",
    "    #List of pixels per frame\n",
    "    temp_list = frame_num\n",
    "    temp_list = np.reshape(temp_list, (400))\n",
    "    temp_list.sort()\n",
    "    median_list.append(np.median(temp_list[0:80]))"
   ]
  },
  {
   "cell_type": "code",
   "execution_count": 24,
   "metadata": {},
   "outputs": [],
   "source": [
    "# This function takes a pixel at values x and y, and calculates the mean of the flux value for every frame.\n",
    "def get_pixel_mean(x, y, pixel_arr):\n",
    "    temp = []\n",
    "    # Used to keep track of frame number for background subtraction\n",
    "    median_frame_count = 0\n",
    "    for frame in pixel_arr['FLUX']:\n",
    "        pix_bkg_sub = frame[x][y] - median_list[median_frame_count]\n",
    "        temp.append(pix_bkg_sub)\n",
    "        median_frame_count+= 1\n",
    "    return np.mean(temp)"
   ]
  },
  {
   "cell_type": "code",
   "execution_count": 25,
   "metadata": {},
   "outputs": [],
   "source": [
    "full_img_avg = []\n",
    "# Loop iterates through a range of 10 since image is 10x10. Change range for larger images.\n",
    "for x in range(20):\n",
    "    for y in range(20):\n",
    "        #Appending the mean over time for this pixel to the full image mean\n",
    "        full_img_avg.append(get_pixel_mean(x,y,pixels))"
   ]
  },
  {
   "cell_type": "code",
   "execution_count": 26,
   "metadata": {},
   "outputs": [
    {
     "data": {
      "text/plain": [
       "(400,)"
      ]
     },
     "execution_count": 26,
     "metadata": {},
     "output_type": "execute_result"
    }
   ],
   "source": [
    "img_mean = np.asarray(full_img_avg)\n",
    "img_mean.shape"
   ]
  },
  {
   "cell_type": "code",
   "execution_count": 27,
   "metadata": {},
   "outputs": [
    {
     "data": {
      "text/plain": [
       "array([[ 1.41224563e+00,  7.65932941e+00,  5.41846848e+00,\n",
       "         1.25984275e+00,  1.00823295e+00,  3.48261523e+00,\n",
       "         1.91009445e+01,  4.67759552e+01,  7.91076965e+01,\n",
       "         9.17288742e+01,  6.78839569e+01,  3.82502327e+01,\n",
       "         1.71613464e+01,  7.54470539e+00,  3.89339781e+00,\n",
       "         1.14067066e+00,  5.57093143e-01,  5.69822550e-01,\n",
       "        -8.79608989e-02, -1.44030854e-01],\n",
       "       [ 6.83392823e-01,  1.37511253e+00,  1.18224800e+00,\n",
       "         7.25497842e-01,  1.94288480e+00,  3.17189670e+00,\n",
       "         7.67400694e+00,  1.67349491e+01,  2.62091999e+01,\n",
       "         2.85699425e+01,  2.47201252e+01,  2.13606586e+01,\n",
       "         1.57646475e+01,  1.07747984e+01,  3.75828671e+00,\n",
       "         1.28134668e+00,  7.37474144e-01,  6.68575644e-01,\n",
       "         4.40763146e-01,  2.32092872e-01],\n",
       "       [ 4.60540444e-01,  5.08037746e-01,  7.45052993e-01,\n",
       "         1.41021299e+00,  2.29062772e+00,  5.07244062e+00,\n",
       "         1.63648815e+01,  1.08610001e+01,  1.82388954e+01,\n",
       "         1.29082689e+01,  1.61145420e+01,  3.58828201e+01,\n",
       "         4.28661613e+01,  2.20915241e+01,  6.35577154e+00,\n",
       "         2.28021121e+00,  2.17022538e+00,  2.12433529e+00,\n",
       "         2.08786798e+00,  7.47759461e-01],\n",
       "       [ 1.92120337e+00,  1.79265106e+00,  2.05079818e+00,\n",
       "         5.19498873e+00,  2.72065997e+00,  5.42986393e+00,\n",
       "         1.11626492e+01,  5.82865047e+00,  5.07058764e+00,\n",
       "         6.31296015e+00,  1.96508656e+01,  1.60448090e+02,\n",
       "         1.44913498e+02,  2.34783878e+01,  7.06919956e+00,\n",
       "         3.51429749e+00,  6.35698414e+00,  7.12005997e+00,\n",
       "         8.55210495e+00,  1.39973366e+00],\n",
       "       [ 1.32950039e+01,  5.71834660e+00,  4.65432596e+00,\n",
       "         4.80993605e+00,  3.89150906e+00,  2.75023818e+00,\n",
       "         3.03168440e+00,  3.42696404e+00,  3.88964128e+00,\n",
       "         4.53220081e+00,  1.28226385e+01,  6.32944145e+01,\n",
       "         7.10363541e+01,  1.87176895e+01,  6.59623957e+00,\n",
       "         3.10113883e+00,  2.52342153e+00,  3.89719534e+00,\n",
       "         4.38942671e+00,  1.06454945e+00],\n",
       "       [ 3.52006721e+01,  9.46551991e+00,  1.37833204e+01,\n",
       "         1.66350861e+01,  6.50989676e+00,  4.11859083e+00,\n",
       "         2.57040691e+00,  3.14907575e+00,  3.36262774e+00,\n",
       "         3.62837100e+00,  4.13085842e+00,  7.72919512e+00,\n",
       "         1.04959812e+01,  8.45936203e+00,  6.44284153e+00,\n",
       "         4.09576988e+00,  1.34304011e+00,  8.54647219e-01,\n",
       "         1.48939705e+00,  2.04964280e+00],\n",
       "       [ 6.43068171e+00,  6.40610552e+00,  2.47653942e+01,\n",
       "         3.65195351e+01,  1.89365063e+01,  1.16334610e+01,\n",
       "         3.99962974e+00,  2.34144187e+00,  1.94999409e+00,\n",
       "         2.01682186e+00,  1.51806116e+00,  2.06551647e+00,\n",
       "         2.77927852e+00,  3.10962605e+00,  6.67983484e+00,\n",
       "         7.79876089e+00,  2.51720476e+00,  7.71706641e-01,\n",
       "         1.85826838e+00,  9.67547894e+00],\n",
       "       [ 1.66683280e+00,  2.82097340e+00,  7.30563402e+00,\n",
       "         3.23910065e+01,  1.14228035e+02,  3.20486145e+01,\n",
       "         5.50904703e+00,  2.14301085e+00,  1.38365841e+00,\n",
       "         1.48302639e+00,  6.39057994e-01,  1.92194909e-01,\n",
       "         6.95471168e-01,  1.80390155e+00,  8.26422501e+00,\n",
       "         1.15495052e+01,  4.16422701e+00,  1.35309768e+00,\n",
       "         1.94146550e+00,  3.80272174e+00],\n",
       "       [ 5.49429238e-01,  2.32550073e+00,  7.41694450e+00,\n",
       "         2.45997200e+01,  8.55121002e+01,  2.67504864e+01,\n",
       "         5.67923689e+00,  1.88956571e+00,  4.84145969e-01,\n",
       "         2.81686217e-01, -9.86585487e-03, -1.42049074e-01,\n",
       "         2.38938987e-01,  1.09243917e+00,  3.50081801e+00,\n",
       "         3.42573547e+00,  2.58356309e+00,  2.49836206e+00,\n",
       "         1.88414514e+00,  1.67642057e+00],\n",
       "       [ 1.15501809e+00,  3.58124685e+00,  1.66808643e+01,\n",
       "         8.01981640e+00,  7.00670481e+00,  6.07846880e+00,\n",
       "         3.48901534e+00,  1.66174793e+00,  2.50168115e-01,\n",
       "        -1.37349010e-01,  1.89066567e-02,  2.50179082e-01,\n",
       "         1.57400310e+00,  2.62206078e+00,  1.96783388e+00,\n",
       "         2.28959394e+00,  1.63623607e+00,  1.52219307e+00,\n",
       "         1.59749353e+00,  1.79595554e+00],\n",
       "       [ 1.42420566e+00,  1.52106583e+00,  3.31492448e+00,\n",
       "         2.31645417e+00,  1.53265166e+00,  1.40704811e+00,\n",
       "         1.28801656e+00,  1.36407685e+00,  6.11109845e-02,\n",
       "        -2.13413596e-01,  2.44810916e-02,  1.75079322e+00,\n",
       "         5.11813641e+00,  1.28691864e+01,  5.61105299e+00,\n",
       "         2.52933836e+00,  1.61016095e+00,  5.27428925e-01,\n",
       "         4.38982457e-01,  1.07814026e+00],\n",
       "       [ 2.39168310e+00,  7.71410584e-01,  2.74944872e-01,\n",
       "         1.73040852e-01,  2.31531814e-01,  3.30589294e-01,\n",
       "         5.26687860e-01,  2.15870366e-01, -5.68479858e-02,\n",
       "        -2.24122345e-01, -7.27043906e-03,  1.29473805e+00,\n",
       "         7.24384880e+00,  3.16011066e+01,  9.08742332e+00,\n",
       "         2.89529228e+00,  1.98632717e+00,  4.71968532e-01,\n",
       "         1.37779862e-01,  5.38514912e-01],\n",
       "       [ 3.27763987e+00,  1.01624334e+00, -1.12084998e-02,\n",
       "         1.23298243e-02, -1.39220152e-02,  2.12770566e-01,\n",
       "         4.88626868e-01,  7.35293478e-02, -1.62015185e-01,\n",
       "        -1.90241501e-01, -6.04024120e-02,  2.95672774e-01,\n",
       "         1.75373721e+00,  4.99086952e+00,  4.75822878e+00,\n",
       "         4.52987909e+00,  2.36187053e+00,  8.53353441e-01,\n",
       "         5.79404533e-01,  1.24433601e+00],\n",
       "       [ 3.29325581e+00,  7.65770912e-01,  6.95593208e-02,\n",
       "         3.01758558e-01, -1.60539504e-02, -1.62235618e-01,\n",
       "         1.52386650e-01,  2.61991143e-01,  1.83049783e-01,\n",
       "         2.76849717e-01,  2.43416289e-03,  1.18799388e-01,\n",
       "         2.95628995e-01,  9.97918606e-01,  3.13675928e+00,\n",
       "         9.07487869e+00,  8.09308815e+00,  2.26203609e+00,\n",
       "         1.83638930e+00,  2.54124808e+00],\n",
       "       [ 3.90237474e+00,  1.30865586e+00, -2.77398601e-02,\n",
       "         1.11101292e-01,  1.02220714e-01, -2.51488179e-01,\n",
       "        -6.89444020e-02, -1.40123636e-01,  2.15984002e-01,\n",
       "         4.69002277e-01,  2.83510536e-01,  3.29889446e-01,\n",
       "         2.31099203e-01,  7.49895751e-01,  4.48498344e+00,\n",
       "         3.72827377e+01,  2.47734623e+01,  3.21635795e+00,\n",
       "         1.56298435e+00,  1.21199524e+00],\n",
       "       [ 2.74361944e+00,  1.58290148e+00, -2.11413708e-02,\n",
       "        -1.55457221e-02,  7.65010417e-02,  4.66242470e-02,\n",
       "         5.00778317e-01,  3.26246828e-01,  3.99183542e-01,\n",
       "         9.69205320e-01,  1.02433777e+00,  1.25649023e+00,\n",
       "         9.02177632e-01,  5.82467437e-01,  2.92668223e+00,\n",
       "         1.06246233e+01,  1.02854910e+01,  3.59112668e+00,\n",
       "         1.73812079e+00,  1.36048198e-01],\n",
       "       [ 1.28957182e-01, -1.71216190e-01, -3.12041938e-01,\n",
       "        -3.29161137e-01,  6.46716431e-02,  5.84837377e-01,\n",
       "         2.13048077e+00,  1.25453568e+00,  7.69761086e-01,\n",
       "         1.98024917e+00,  1.75860178e+00,  3.14595032e+00,\n",
       "         1.49919331e+00,  2.14643419e-01,  8.10754359e-01,\n",
       "         1.48537135e+00,  2.22658849e+00,  2.01179218e+00,\n",
       "         1.02638507e+00,  6.93064690e-01],\n",
       "       [ 2.28196159e-01, -3.76044601e-01, -3.51640046e-01,\n",
       "         8.54816735e-01,  7.15523303e-01,  1.04703212e+00,\n",
       "         5.32250977e+00,  4.26343727e+00,  3.25726295e+00,\n",
       "         2.56305885e+00,  2.42865062e+00,  3.90301156e+00,\n",
       "         1.44511640e+00,  4.31360215e-01,  4.27914500e-01,\n",
       "         7.88463533e-01,  1.71535552e+00,  9.29598451e-01,\n",
       "         3.08871090e-01,  3.18874925e-01],\n",
       "       [ 5.34887612e-01, -2.55490869e-01, -3.24291170e-01,\n",
       "         4.75421667e-01,  4.49205816e-01,  9.34574842e-01,\n",
       "         2.98447466e+00,  9.52898216e+00,  1.46624041e+01,\n",
       "         1.07770567e+01,  5.89444590e+00,  3.70034003e+00,\n",
       "         1.45630252e+00,  3.10739827e+00,  1.23049223e+00,\n",
       "         5.56122325e-02,  1.78495869e-01,  1.74400702e-01,\n",
       "         4.60702553e-02,  1.36420727e-01],\n",
       "       [ 1.94003594e+00, -1.71052039e-01, -3.71374190e-01,\n",
       "        -4.38801199e-01,  4.07210678e-01,  1.22424781e+00,\n",
       "         7.98488951e+00,  3.93526497e+01,  7.62952347e+01,\n",
       "         3.54742088e+01,  1.38426771e+01,  5.52814484e+00,\n",
       "         2.80853438e+00,  5.29518318e+00,  2.05784631e+00,\n",
       "         9.28564668e-02, -2.56406546e-01, -1.86631486e-01,\n",
       "         6.02177754e-02,  1.48139268e-01]], dtype=float32)"
      ]
     },
     "execution_count": 27,
     "metadata": {},
     "output_type": "execute_result"
    }
   ],
   "source": [
    "new_full_img = np.resize(img_mean,(20,20))\n",
    "mean = new_full_img.mean()\n",
    "std = new_full_img.std()\n",
    "new_full_img"
   ]
  },
  {
   "cell_type": "code",
   "execution_count": 4,
   "metadata": {},
   "outputs": [
    {
     "ename": "NameError",
     "evalue": "name 'new_full_img' is not defined",
     "output_type": "error",
     "traceback": [
      "\u001b[0;31m---------------------------------------------------------------------------\u001b[0m",
      "\u001b[0;31mNameError\u001b[0m                                 Traceback (most recent call last)",
      "\u001b[0;32m<ipython-input-4-3d2dbeb8cc00>\u001b[0m in \u001b[0;36m<module>\u001b[0;34m\u001b[0m\n\u001b[0;32m----> 1\u001b[0;31m \u001b[0mplt\u001b[0m\u001b[0;34m.\u001b[0m\u001b[0mimshow\u001b[0m\u001b[0;34m(\u001b[0m\u001b[0mnew_full_img\u001b[0m\u001b[0;34m)\u001b[0m\u001b[0;34m\u001b[0m\u001b[0;34m\u001b[0m\u001b[0m\n\u001b[0m",
      "\u001b[0;31mNameError\u001b[0m: name 'new_full_img' is not defined"
     ]
    }
   ],
   "source": [
    "plt.imshow(new_full_img)"
   ]
  },
  {
   "cell_type": "markdown",
   "metadata": {},
   "source": [
    "# Outliers\n",
    "\n",
    "This function is also used for the normalization process. It rejects outlying data by removing values more than 4 standard deviations above the mean of flux values."
   ]
  },
  {
   "cell_type": "code",
   "execution_count": 5,
   "metadata": {},
   "outputs": [],
   "source": [
    "def reject_outliers(data):\n",
    "    # let's assume that `data` is a 1D array of the total flux within the mask in each frame\n",
    "    \n",
    "    # cond is value (flux) that is the threshold for \"2 sigma\"\n",
    "\n",
    "    def quicklook(series):\n",
    "        test = []\n",
    "        for cadence in range(len(series)):\n",
    "            # is the flux at that cadence more than 2std off of the mean --> data[cadence] > mean(data) + 2*std(data)\n",
    "            if (np.abs(series[cadence]) < condition):\n",
    "                test.append(series[cadence])\n",
    "        return test\n",
    "    prev = condition = np.mean(data) + 4 * np.std(data)\n",
    "    while(True):\n",
    "        temp = quicklook(data)\n",
    "        \n",
    "        condition = np.mean(temp) + 4 * np.std(temp)\n",
    "        \n",
    "        if (prev - condition < 10):\n",
    "            break\n",
    "        else: prev = condition\n",
    "    \n",
    "    result = temp\n",
    "    \n",
    "    #return data[abs(data - np.mean(data)) < m * np.std(data)]    return result"
   ]
  },
  {
   "cell_type": "markdown",
   "metadata": {},
   "source": [
    "# Light curve Ensemble\n",
    "\n",
    "This code is used for generating the ensemble of the lightcurve. These are 5 values in the data set that represent the average value for the entire mask. This is used to generate a proper data set to reject outliers."
   ]
  },
  {
   "cell_type": "code",
   "execution_count": 7,
   "metadata": {
    "scrolled": true
   },
   "outputs": [
    {
     "ename": "NameError",
     "evalue": "name 'full_frame_list' is not defined",
     "output_type": "error",
     "traceback": [
      "\u001b[0;31m---------------------------------------------------------------------------\u001b[0m",
      "\u001b[0;31mNameError\u001b[0m                                 Traceback (most recent call last)",
      "\u001b[0;32m<ipython-input-7-79c2361ec5bc>\u001b[0m in \u001b[0;36m<module>\u001b[0;34m\u001b[0m\n\u001b[1;32m     10\u001b[0m     \u001b[0mtemp\u001b[0m \u001b[0;34m=\u001b[0m \u001b[0;34m[\u001b[0m\u001b[0;34m]\u001b[0m\u001b[0;34m\u001b[0m\u001b[0;34m\u001b[0m\u001b[0m\n\u001b[1;32m     11\u001b[0m     \u001b[0;31m#Second loop goes through each cadence.\u001b[0m\u001b[0;34m\u001b[0m\u001b[0;34m\u001b[0m\u001b[0;34m\u001b[0m\u001b[0m\n\u001b[0;32m---> 12\u001b[0;31m     \u001b[0;32mfor\u001b[0m \u001b[0mframe\u001b[0m \u001b[0;32min\u001b[0m \u001b[0mrange\u001b[0m\u001b[0;34m(\u001b[0m\u001b[0mlen\u001b[0m\u001b[0;34m(\u001b[0m\u001b[0mfull_frame_list\u001b[0m\u001b[0;34m)\u001b[0m\u001b[0;34m)\u001b[0m\u001b[0;34m:\u001b[0m\u001b[0;34m\u001b[0m\u001b[0;34m\u001b[0m\u001b[0m\n\u001b[0m\u001b[1;32m     13\u001b[0m         \u001b[0mcadence\u001b[0m \u001b[0;34m=\u001b[0m \u001b[0mfull_frame_list\u001b[0m\u001b[0;34m[\u001b[0m\u001b[0mframe\u001b[0m\u001b[0;34m]\u001b[0m\u001b[0;34m\u001b[0m\u001b[0;34m\u001b[0m\u001b[0m\n\u001b[1;32m     14\u001b[0m         \u001b[0mtemp\u001b[0m\u001b[0;34m.\u001b[0m\u001b[0mappend\u001b[0m\u001b[0;34m(\u001b[0m\u001b[0mcadence\u001b[0m\u001b[0;34m[\u001b[0m\u001b[0mi\u001b[0m\u001b[0;34m[\u001b[0m\u001b[0;36m0\u001b[0m\u001b[0;34m]\u001b[0m\u001b[0;34m]\u001b[0m\u001b[0;34m[\u001b[0m\u001b[0mi\u001b[0m\u001b[0;34m[\u001b[0m\u001b[0;36m1\u001b[0m\u001b[0;34m]\u001b[0m\u001b[0;34m]\u001b[0m\u001b[0;34m)\u001b[0m\u001b[0;34m\u001b[0m\u001b[0;34m\u001b[0m\u001b[0m\n",
      "\u001b[0;31mNameError\u001b[0m: name 'full_frame_list' is not defined"
     ]
    }
   ],
   "source": [
    "# Code for lightcurve ensemble\n",
    "\n",
    "#Holds median divided flux values\n",
    "flux_vals = []\n",
    "#Pixels used to create the ensemble, these are the four corners and the center pixel.\n",
    "ensemble_box = [[0,0],[0,19],[19,19],[19,0],[10,10]]\n",
    "\n",
    "for i in ensemble_box:\n",
    "    #temp holds flux values for one pixel in the ensemble box.\n",
    "    temp = []\n",
    "    #Second loop goes through each cadence.\n",
    "    for frame in range(len(full_frame_list)):\n",
    "        cadence = full_frame_list[frame]\n",
    "        temp.append(cadence[i[0]][i[1]])\n",
    "    #Appends the median divided flux values for each pixel in box.\n",
    "    flux_vals.append(temp/np.median(temp))\n",
    "    \n",
    "#Holds the median flux values for all 5 pixels in the ensemble - for each cadence.\n",
    "img_flux_median = []\n",
    "    \n",
    "# Loops through all 1060 cadences\n",
    "for cadence in range(len(flux_vals[0])):\n",
    "    # Holds each pixels flux value at specific cadence.\n",
    "    current_cad_flux = []\n",
    "    #Nested loop changes pixel in the ensemble.\n",
    "    for pixel in flux_vals:\n",
    "        #Appends current pixel's flux at this cadence.\n",
    "        current_cad_flux.append(pixel[cadence])\n",
    "    #Finds the median of this cadence's flux value, appends to img_flux_median\n",
    "    img_flux_median.append(np.median(current_cad_flux))\n"
   ]
  },
  {
   "cell_type": "markdown",
   "metadata": {},
   "source": [
    "# Target Pixel\n",
    "\n",
    "This code requires the known location of the Gamma Ray Burst. Once that value is defined, a lightcurve is generated for the target pixel"
   ]
  },
  {
   "cell_type": "code",
   "execution_count": 37,
   "metadata": {},
   "outputs": [],
   "source": [
    "#Code for creating target pixel light curve.\n",
    "targ_pix = [15,2]\n",
    "target_flux_vals = []\n",
    "\n",
    "for frame in full_frame_list:\n",
    "    target_flux_vals.append(frame[targ_pix[0]][targ_pix[1]])\n",
    "\n",
    "lc_corr = np.divide(target_flux_vals, img_flux_median)\n",
    "lc_corr = np.divide(lc_corr, np.median(lc_corr))\n",
    "new_targ_flux = lc_corr * np.median(target_flux_vals)"
   ]
  },
  {
   "cell_type": "code",
   "execution_count": 6,
   "metadata": {},
   "outputs": [
    {
     "ename": "NameError",
     "evalue": "name 'new_targ_flux' is not defined",
     "output_type": "error",
     "traceback": [
      "\u001b[0;31m---------------------------------------------------------------------------\u001b[0m",
      "\u001b[0;31mNameError\u001b[0m                                 Traceback (most recent call last)",
      "\u001b[0;32m<ipython-input-6-d61b2d080487>\u001b[0m in \u001b[0;36m<module>\u001b[0;34m\u001b[0m\n\u001b[0;32m----> 1\u001b[0;31m \u001b[0mnew_lc\u001b[0m \u001b[0;34m=\u001b[0m \u001b[0mplt\u001b[0m\u001b[0;34m.\u001b[0m\u001b[0mplot\u001b[0m\u001b[0;34m(\u001b[0m\u001b[0mpixels\u001b[0m\u001b[0;34m[\u001b[0m\u001b[0;34m'TIME'\u001b[0m\u001b[0;34m]\u001b[0m\u001b[0;34m,\u001b[0m\u001b[0mnew_targ_flux\u001b[0m\u001b[0;34m)\u001b[0m\u001b[0;34m\u001b[0m\u001b[0;34m\u001b[0m\u001b[0m\n\u001b[0m",
      "\u001b[0;31mNameError\u001b[0m: name 'new_targ_flux' is not defined"
     ]
    }
   ],
   "source": [
    "new_lc = plt.plot(pixels['TIME'],new_targ_flux)"
   ]
  },
  {
   "cell_type": "code",
   "execution_count": 17,
   "metadata": {},
   "outputs": [
    {
     "data": {
      "text/plain": [
       "92"
      ]
     },
     "execution_count": 17,
     "metadata": {},
     "output_type": "execute_result"
    }
   ],
   "source": [
    "#Code determines which pixels should be in the mask.\n",
    "wanted_pixels = np.where(new_full_img < mean + std)\n",
    "len(wanted_pixels[0])"
   ]
  },
  {
   "cell_type": "code",
   "execution_count": 18,
   "metadata": {},
   "outputs": [],
   "source": [
    "x_vals = []\n",
    "y_vals = []\n",
    "# Gets indexes from wanted pixels, and appends them to an x and y list.\n",
    "for arr_ind in range(2):\n",
    "    for pixel_ind in range(92):\n",
    "        if arr_ind == 0:\n",
    "            x_vals.append(wanted_pixels[arr_ind][pixel_ind])\n",
    "        else:\n",
    "            y_vals.append(wanted_pixels[arr_ind][pixel_ind])"
   ]
  },
  {
   "cell_type": "code",
   "execution_count": 19,
   "metadata": {},
   "outputs": [],
   "source": [
    "# Creates a list of x,y pairs. \n",
    "index_list = []\n",
    "for index in range(92):\n",
    "    index_list.append([x_vals[index],y_vals[index]])"
   ]
  },
  {
   "cell_type": "code",
   "execution_count": 20,
   "metadata": {
    "scrolled": true
   },
   "outputs": [
    {
     "data": {
      "text/plain": [
       "[[0, 0],\n",
       " [0, 1],\n",
       " [0, 2],\n",
       " [0, 3],\n",
       " [0, 4],\n",
       " [0, 5],\n",
       " [0, 6],\n",
       " [0, 7],\n",
       " [0, 8],\n",
       " [0, 9],\n",
       " [1, 0],\n",
       " [1, 1],\n",
       " [1, 2],\n",
       " [1, 3],\n",
       " [1, 4],\n",
       " [1, 5],\n",
       " [1, 6],\n",
       " [1, 7],\n",
       " [1, 8],\n",
       " [1, 9],\n",
       " [2, 0],\n",
       " [2, 1],\n",
       " [2, 2],\n",
       " [2, 3],\n",
       " [2, 4],\n",
       " [2, 5],\n",
       " [2, 6],\n",
       " [2, 7],\n",
       " [2, 8],\n",
       " [2, 9],\n",
       " [3, 0],\n",
       " [3, 1],\n",
       " [3, 2],\n",
       " [3, 3],\n",
       " [3, 4],\n",
       " [3, 5],\n",
       " [3, 6],\n",
       " [3, 7],\n",
       " [3, 8],\n",
       " [3, 9],\n",
       " [4, 0],\n",
       " [4, 1],\n",
       " [4, 2],\n",
       " [4, 3],\n",
       " [4, 4],\n",
       " [4, 5],\n",
       " [4, 6],\n",
       " [4, 7],\n",
       " [4, 8],\n",
       " [4, 9],\n",
       " [5, 0],\n",
       " [5, 1],\n",
       " [5, 3],\n",
       " [5, 4],\n",
       " [5, 5],\n",
       " [5, 6],\n",
       " [5, 7],\n",
       " [5, 8],\n",
       " [5, 9],\n",
       " [6, 0],\n",
       " [6, 4],\n",
       " [6, 5],\n",
       " [6, 6],\n",
       " [6, 7],\n",
       " [6, 8],\n",
       " [6, 9],\n",
       " [7, 0],\n",
       " [7, 3],\n",
       " [7, 4],\n",
       " [7, 5],\n",
       " [7, 6],\n",
       " [7, 7],\n",
       " [7, 8],\n",
       " [7, 9],\n",
       " [8, 0],\n",
       " [8, 1],\n",
       " [8, 2],\n",
       " [8, 3],\n",
       " [8, 4],\n",
       " [8, 5],\n",
       " [8, 6],\n",
       " [8, 7],\n",
       " [8, 8],\n",
       " [8, 9],\n",
       " [9, 0],\n",
       " [9, 1],\n",
       " [9, 2],\n",
       " [9, 3],\n",
       " [9, 6],\n",
       " [9, 7],\n",
       " [9, 8],\n",
       " [9, 9]]"
      ]
     },
     "execution_count": 20,
     "metadata": {},
     "output_type": "execute_result"
    }
   ],
   "source": [
    "index_list"
   ]
  },
  {
   "cell_type": "code",
   "execution_count": null,
   "metadata": {},
   "outputs": [],
   "source": []
  },
  {
   "cell_type": "code",
   "execution_count": null,
   "metadata": {},
   "outputs": [],
   "source": []
  }
 ],
 "metadata": {
  "kernelspec": {
   "display_name": "Python 3",
   "language": "python",
   "name": "python3"
  },
  "language_info": {
   "codemirror_mode": {
    "name": "ipython",
    "version": 3
   },
   "file_extension": ".py",
   "mimetype": "text/x-python",
   "name": "python",
   "nbconvert_exporter": "python",
   "pygments_lexer": "ipython3",
   "version": "3.6.8"
  }
 },
 "nbformat": 4,
 "nbformat_minor": 2
}
